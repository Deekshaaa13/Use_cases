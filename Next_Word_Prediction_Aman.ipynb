{
  "nbformat": 4,
  "nbformat_minor": 0,
  "metadata": {
    "colab": {
      "name": "Next_Word_Prediction_Aman.ipynb",
      "provenance": [],
      "collapsed_sections": [],
      "machine_shape": "hm"
    },
    "kernelspec": {
      "name": "python3",
      "display_name": "Python 3"
    },
    "language_info": {
      "name": "python"
    },
    "accelerator": "GPU"
  },
  "cells": [
    {
      "cell_type": "markdown",
      "metadata": {
        "id": "kFWWlV5Vz2mt"
      },
      "source": [
        "##**Next Word Prediction Model**\n",
        "Most of the keyboards in smartphones give next word prediction features; google also uses next word prediction based on our browsing history. So a preloaded data is also stored in the keyboard function of our smartphones to predict the next word correctly. In this article, I will train a Deep Learning model for next word prediction using Python. I will use the Tensorflow and Keras library in Python for next word prediction model.\n",
        "\n",
        "For making a Next Word Prediction model, I will train a Recurrent Neural Network (RNN). So let’s start with this task now without wasting any time."
      ]
    },
    {
      "cell_type": "code",
      "metadata": {
        "id": "0aQ6hgCb0F7T"
      },
      "source": [
        "import numpy as np\n",
        "from nltk.tokenize import RegexpTokenizer\n",
        "from keras.models import Sequential, load_model\n",
        "from keras.layers import LSTM\n",
        "from keras.layers.core import Dense, Activation\n",
        "from tensorflow.keras.optimizers import RMSprop\n",
        "import matplotlib.pyplot as plt\n",
        "import pickle\n",
        "import heapq"
      ],
      "execution_count": 29,
      "outputs": []
    },
    {
      "cell_type": "markdown",
      "metadata": {
        "id": "xnZLUTzS0_Wd"
      },
      "source": [
        "*As I told earlier, Google uses our browsing history to make next word predictions, smartphones, and all the keyboards that are trained to predict the next word are trained using some data. So I will also use a dataset.*"
      ]
    },
    {
      "cell_type": "code",
      "metadata": {
        "id": "p-gjriSK1xsk"
      },
      "source": [
        ""
      ],
      "execution_count": 3,
      "outputs": []
    },
    {
      "cell_type": "code",
      "metadata": {
        "colab": {
          "base_uri": "https://localhost:8080/"
        },
        "id": "3i_LPaLh0y3F",
        "outputId": "dfb0f0d7-33b7-4cd3-c21f-bf13b9f5ec65"
      },
      "source": [
        "path='/content/Next_Word.txt'\n",
        "text=open(path).read().lower()\n",
        "print('Corpus length',len(text))"
      ],
      "execution_count": 4,
      "outputs": [
        {
          "output_type": "stream",
          "name": "stdout",
          "text": [
            "Corpus length 581888\n"
          ]
        }
      ]
    },
    {
      "cell_type": "markdown",
      "metadata": {
        "id": "WyMUuR7V2ONj"
      },
      "source": [
        "Now I will split the dataset into each word in order but without the presence of some special characters."
      ]
    },
    {
      "cell_type": "code",
      "metadata": {
        "id": "3vG-s-ys1ptf"
      },
      "source": [
        "tokenizer = RegexpTokenizer(r'\\w+')\n",
        "words = tokenizer.tokenize(text)"
      ],
      "execution_count": 5,
      "outputs": []
    },
    {
      "cell_type": "markdown",
      "metadata": {
        "id": "qnBcTXRo_V8Y"
      },
      "source": [
        "Now the next process will be performing the feature engineering in our data. For this purpose, we will require a dictionary with each word in the data within the list of unique words as the key, and it’s significant portions as value.\n",
        "\n"
      ]
    },
    {
      "cell_type": "code",
      "metadata": {
        "id": "H6FA1jp83CDw"
      },
      "source": [
        "unique_words=np.unique(words)\n",
        "unique_word_index=dict((c, i) for i, c in enumerate(unique_words))"
      ],
      "execution_count": 6,
      "outputs": []
    },
    {
      "cell_type": "markdown",
      "metadata": {
        "id": "xSBOq2hhAWny"
      },
      "source": [
        "Feature Engineering\n",
        "Feature Engineering means taking whatever information we have about our problem and turning it into numbers that we can use to build our feature matrix.\n",
        "\n",
        "Here I will define a Word length which will represent the number of previous words that will determine our next word. I will define prev words to keep five previous words and their corresponding next words in the list of next words."
      ]
    },
    {
      "cell_type": "markdown",
      "metadata": {
        "id": "QMAKaJSOBX6j"
      },
      "source": [
        "Here I will define a Word length which will represent the number of previous words that will determine our next word. I will define prev words to keep five previous words and their corresponding next words in the list of next words."
      ]
    },
    {
      "cell_type": "code",
      "metadata": {
        "colab": {
          "base_uri": "https://localhost:8080/"
        },
        "id": "9ypOvHROALMh",
        "outputId": "c5a9685f-f8c7-4426-bf4b-3acf603a2bb8"
      },
      "source": [
        "word_length=5\n",
        "prev_words=[]\n",
        "next_words=[]\n",
        "for i in range(len(words)-word_length):\n",
        "  prev_words.append(words[i:i+word_length])\n",
        "  next_words.append(words[i+word_length])\n",
        "print(prev_words[0])\n",
        "print(next_words[0])"
      ],
      "execution_count": 7,
      "outputs": [
        {
          "output_type": "stream",
          "name": "stdout",
          "text": [
            "['project', 'gutenberg', 's', 'the', 'adventures']\n",
            "of\n"
          ]
        }
      ]
    },
    {
      "cell_type": "markdown",
      "metadata": {
        "id": "zs8wkmCoLV6d"
      },
      "source": [
        "Now I will create two numpy arrays x for storing the features and y for storing its corresponding label. I will iterate x and y if the word is available so that the corresponding position becomes 1."
      ]
    },
    {
      "cell_type": "code",
      "metadata": {
        "id": "OKQiIjpCFHHc"
      },
      "source": [
        "X = np.zeros((len(prev_words), word_length, len(unique_words)), dtype=bool)\n",
        "Y = np.zeros((len(next_words), len(unique_words)), dtype=bool)\n",
        "for i, each_words in enumerate(prev_words):\n",
        "    for j, each_word in enumerate(each_words):\n",
        "        X[i, j, unique_word_index[each_word]] = 1\n",
        "    Y[i, unique_word_index[next_words[i]]] = 1"
      ],
      "execution_count": 17,
      "outputs": []
    },
    {
      "cell_type": "code",
      "metadata": {
        "colab": {
          "base_uri": "https://localhost:8080/"
        },
        "id": "xZTp0-oFRfvM",
        "outputId": "c8aad438-da4a-45c5-f983-2547d354a59d"
      },
      "source": [
        "print(X[0][0])"
      ],
      "execution_count": 19,
      "outputs": [
        {
          "output_type": "stream",
          "name": "stdout",
          "text": [
            "[False False False ... False False False]\n"
          ]
        }
      ]
    },
    {
      "cell_type": "markdown",
      "metadata": {
        "id": "up_lWEM4S6cd"
      },
      "source": [
        "##**Building the Recurrent Neural network**\n",
        "As I stated earlier, I will use the Recurrent Neural networks for next word prediction model. Here I will use the LSTM model, which is a very powerful RNN."
      ]
    },
    {
      "cell_type": "code",
      "metadata": {
        "id": "bFD2B80vTQC-"
      },
      "source": [
        "model = Sequential()\n",
        "model.add(LSTM(128, input_shape=(word_length, len(unique_words))))\n",
        "model.add(Dense(len(unique_words)))\n",
        "model.add(Activation('softmax'))"
      ],
      "execution_count": 24,
      "outputs": []
    },
    {
      "cell_type": "code",
      "metadata": {
        "colab": {
          "base_uri": "https://localhost:8080/"
        },
        "id": "t5xQIA2UTdQP",
        "outputId": "a00da016-5ab6-4f0b-9278-85bcb888249e"
      },
      "source": [
        "optimizer = RMSprop(lr=0.01)\n",
        "model.compile(loss='categorical_crossentropy', optimizer=optimizer, metrics=['accuracy'])\n",
        "history = model.fit(X, Y, validation_split=0.05, batch_size=128, epochs=10, shuffle=True).history"
      ],
      "execution_count": 31,
      "outputs": [
        {
          "output_type": "stream",
          "name": "stderr",
          "text": [
            "/usr/local/lib/python3.7/dist-packages/keras/optimizer_v2/optimizer_v2.py:356: UserWarning: The `lr` argument is deprecated, use `learning_rate` instead.\n",
            "  \"The `lr` argument is deprecated, use `learning_rate` instead.\")\n"
          ]
        },
        {
          "output_type": "stream",
          "name": "stdout",
          "text": [
            "Epoch 1/10\n",
            "811/811 [==============================] - 13s 13ms/step - loss: 5.8183 - accuracy: 0.1745 - val_loss: 7.8585 - val_accuracy: 0.1093\n",
            "Epoch 2/10\n",
            "811/811 [==============================] - 10s 12ms/step - loss: 5.4173 - accuracy: 0.2110 - val_loss: 8.1613 - val_accuracy: 0.1023\n",
            "Epoch 3/10\n",
            "811/811 [==============================] - 10s 12ms/step - loss: 5.0440 - accuracy: 0.2537 - val_loss: 8.2875 - val_accuracy: 0.0912\n",
            "Epoch 4/10\n",
            "811/811 [==============================] - 10s 12ms/step - loss: 4.7025 - accuracy: 0.2982 - val_loss: 8.7754 - val_accuracy: 0.0877\n",
            "Epoch 5/10\n",
            "811/811 [==============================] - 10s 12ms/step - loss: 4.3981 - accuracy: 0.3409 - val_loss: 8.7443 - val_accuracy: 0.0890\n",
            "Epoch 6/10\n",
            "811/811 [==============================] - 10s 12ms/step - loss: 4.1573 - accuracy: 0.3804 - val_loss: 9.0014 - val_accuracy: 0.0837\n",
            "Epoch 7/10\n",
            "811/811 [==============================] - 10s 12ms/step - loss: 3.9774 - accuracy: 0.4141 - val_loss: 9.1998 - val_accuracy: 0.0756\n",
            "Epoch 8/10\n",
            "811/811 [==============================] - 10s 12ms/step - loss: 3.8697 - accuracy: 0.4407 - val_loss: 9.0727 - val_accuracy: 0.0731\n",
            "Epoch 9/10\n",
            "811/811 [==============================] - 10s 12ms/step - loss: 3.7725 - accuracy: 0.4671 - val_loss: 9.4246 - val_accuracy: 0.0741\n",
            "Epoch 10/10\n",
            "811/811 [==============================] - 10s 12ms/step - loss: 3.6696 - accuracy: 0.4894 - val_loss: 9.5436 - val_accuracy: 0.0716\n"
          ]
        }
      ]
    },
    {
      "cell_type": "code",
      "metadata": {
        "id": "RtBEU7kzUBvN"
      },
      "source": [
        "model.save('keras_next_word_model.h5')\n",
        "pickle.dump(history, open(\"history.p\", \"wb\"))\n",
        "model = load_model('keras_next_word_model.h5')\n",
        "history = pickle.load(open(\"history.p\", \"rb\"))"
      ],
      "execution_count": 32,
      "outputs": []
    },
    {
      "cell_type": "code",
      "metadata": {
        "colab": {
          "base_uri": "https://localhost:8080/",
          "height": 312
        },
        "id": "Kwn_krY0Vm3V",
        "outputId": "868a2a6d-e75b-4cc0-e342-66e4c92204c2"
      },
      "source": [
        "plt.plot(history['accuracy'])\n",
        "plt.plot(history['val_accuracy'])\n",
        "plt.title('model accuracy')\n",
        "plt.ylabel('accuracy')\n",
        "plt.xlabel('epoch')\n",
        "plt.legend(['train', 'test'], loc='upper left')"
      ],
      "execution_count": 34,
      "outputs": [
        {
          "output_type": "execute_result",
          "data": {
            "text/plain": [
              "<matplotlib.legend.Legend at 0x7f751772ca90>"
            ]
          },
          "metadata": {},
          "execution_count": 34
        },
        {
          "output_type": "display_data",
          "data": {
            "image/png": "[encoded data removed]",
            "text/plain": [
              "<Figure size 432x288 with 1 Axes>"
            ]
          },
          "metadata": {
            "needs_background": "light"
          }
        }
      ]
    },
    {
      "cell_type": "code",
      "metadata": {
        "id": "e96me-D1Vo4f"
      },
      "source": [
        ""
      ],
      "execution_count": null,
      "outputs": []
    }
  ]
}