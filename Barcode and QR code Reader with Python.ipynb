{
 "cells": [
  {
   "cell_type": "markdown",
   "id": "287860ab",
   "metadata": {},
   "source": [
    "This is a great machine learning task to get started with computer vision.Barcodes and QR codes are very cool and interesting because they store information in a different format. The fun part about them is that we can’t tell what they are storing until we analyze them. It’s like playing a puzzle game. And another thing I love about them is that they can be part of the physical world and still connect us to the internet world."
   ]
  },
  {
   "cell_type": "markdown",
   "id": "3b2dc565",
   "metadata": {},
   "source": [
    "How does the barcode and QR code reader work?\n",
    "If you are wondering how barcode and QR code readers work, let’s do a little practical exercise. Turn on your phone camera and view the featured image from this item.\n",
    "\n",
    "You will see a link appear, it is very easy to use. Today you will learn how to create your barcode and QRcode reader with Python and Machine Learning, without wasting time, let’s get started."
   ]
  },
  {
   "cell_type": "code",
   "execution_count": 3,
   "id": "0163536b",
   "metadata": {},
   "outputs": [],
   "source": [
    "import cv2\n",
    "from pyzbar.pyzbar import decode"
   ]
  },
  {
   "cell_type": "markdown",
   "id": "ce448c05",
   "metadata": {},
   "source": [
    "## The code:\n",
    "We will start by importing the cv2 module, so we can read our testing image as a numpy array. We will also import the decode function from the pyzbar module, which we will use to detect and decode the barcode."
   ]
  },
  {
   "cell_type": "code",
   "execution_count": null,
   "id": "c68a2d4a",
   "metadata": {},
   "outputs": [],
   "source": [
    "image= cv2.imread('')"
   ]
  },
  {
   "cell_type": "markdown",
   "id": "82e5a615",
   "metadata": {},
   "source": [
    "Then, to decode the barcode in the image, we simply need to call the decode function we have imported, passing as input the image.\n",
    "\n",
    "This function returns an array of objects of class Decoded. Each element of the array represents a detected barcode. This means that we can use the library with images with multiple barcodes."
   ]
  },
  {
   "cell_type": "code",
   "execution_count": null,
   "id": "53bd81b7",
   "metadata": {},
   "outputs": [],
   "source": [
    "detectedBarcodes = decode(image)"
   ]
  },
  {
   "cell_type": "code",
   "execution_count": null,
   "id": "d1b015fe",
   "metadata": {},
   "outputs": [],
   "source": [
    "for barcode in detectedBarcodes:\n",
    "    (x,y,w,h) = barcode.rect\n",
    "    cv2.rectangle(image, (x,y), (x+w, y+h), (255,0,0), 5)\n",
    "    print(barcode.data)\n",
    "    print(barcode.type)\n",
    "cv2.imshow('Image',image)\n",
    "cv2.waitKey(0)\n",
    "cv2.destroyAllWindows()"
   ]
  },
  {
   "cell_type": "code",
   "execution_count": null,
   "id": "3924e7d4",
   "metadata": {},
   "outputs": [],
   "source": [
    "from pyzbar.pyzbar import decode\n",
    "from PIL import Image\n",
    "info = decode(Image.open('PATH\\\\NAME OF IMAGE'))\n",
    "for i in info:\n",
    "    print(i.data.decode(\"utf-8\"))"
   ]
  }
 ],
 "metadata": {
  "kernelspec": {
   "display_name": "Python 3 (ipykernel)",
   "language": "python",
   "name": "python3"
  },
  "language_info": {
   "codemirror_mode": {
    "name": "ipython",
    "version": 3
   },
   "file_extension": ".py",
   "mimetype": "text/x-python",
   "name": "python",
   "nbconvert_exporter": "python",
   "pygments_lexer": "ipython3",
   "version": "3.8.11"
  }
 },
 "nbformat": 4,
 "nbformat_minor": 5
}
