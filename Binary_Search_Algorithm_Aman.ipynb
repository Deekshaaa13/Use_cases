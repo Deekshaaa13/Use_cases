{
 "cells": [
  {
   "cell_type": "markdown",
   "metadata": {},
   "source": [
    "Binary search also called half-interval search, which is an algorithm used in computers systems to find the position of a value in a sorted array."
   ]
  },
  {
   "cell_type": "markdown",
   "metadata": {},
   "source": [
    "## What is Binary Search Algorithm?\n",
    "In a binary search algorithm, the list is split in half and then searched in each half. One thing to notice while implementing the binary search algorithm is that the list must be sorted before running the algorithm."
   ]
  },
  {
   "cell_type": "markdown",
   "metadata": {},
   "source": [
    "The list is then split into two halves by the index, find the element in the middle(m) of the list, then start at m-1 is a list and m+1 at the end is another list, check if the element is at the middle, higher or lower than this and return the appropriate position of the key element to find.\n",
    "\n",
    "## How Binary Search Works?\n",
    "So let’s say you have a list of 10,000 items. The element you are looking for is in the 9000th place. If you implement any other search algorithm in this scenario, it will take a long time to give you the result. Because the algorithm has to check every item in the list."
   ]
  },
  {
   "cell_type": "markdown",
   "metadata": {},
   "source": [
    "So we first need to specify the lower limit and the upper limit. The lower limit is the first index in the list and the upper limit is the last index in the list. Once you finish assigning the lower and upper limits, the next thing you have to find a mid-index.\n",
    "\n",
    "###### Mid index = (Lower limit + Upper Limit)/2\n",
    "\n",
    "Now let’s specify the item we need to find in our list. Let’s say we need to find number 90 in our list. Now let’s create a binary search algorithm with Python to find the number 90 in a list:"
   ]
  },
  {
   "cell_type": "code",
   "execution_count": 5,
   "metadata": {},
   "outputs": [
    {
     "name": "stdout",
     "output_type": "stream",
     "text": [
      "Not Found\n"
     ]
    }
   ],
   "source": [
    "def search(list,n):\n",
    "    l=0\n",
    "    u=len(list)-1\n",
    "    while(l<=u):\n",
    "        mid=(l+u)//2\n",
    "        \n",
    "        if list[mid]==n:\n",
    "            return True\n",
    "        else:\n",
    "            if list[mid]<n:\n",
    "                l=mid+1\n",
    "            else:\n",
    "                u=mid-1\n",
    "    return False\n",
    "list=[2,5,67,990,89876]\n",
    "if search(list, 7):\n",
    "    print(\"Found\")\n",
    "else:\n",
    "    print(\"Not Found\")"
   ]
  },
  {
   "cell_type": "code",
   "execution_count": null,
   "metadata": {},
   "outputs": [],
   "source": []
  }
 ],
 "metadata": {
  "kernelspec": {
   "display_name": "Python 3",
   "language": "python",
   "name": "python3"
  },
  "language_info": {
   "codemirror_mode": {
    "name": "ipython",
    "version": 3
   },
   "file_extension": ".py",
   "mimetype": "text/x-python",
   "name": "python",
   "nbconvert_exporter": "python",
   "pygments_lexer": "ipython3",
   "version": "3.8.5"
  }
 },
 "nbformat": 4,
 "nbformat_minor": 4
}
