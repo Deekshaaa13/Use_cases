{
 "cells": [
  {
   "cell_type": "markdown",
   "metadata": {},
   "source": [
    "Google developers have created an API that does it all. Now, what if you want to translate using Python? Python being a straightforward and general-purpose programming language provides packages for almost every task."
   ]
  },
  {
   "cell_type": "markdown",
   "metadata": {},
   "source": [
    "## Translate Using Python\n",
    "For the translation of any language to your desired language, you are required to install a package known as googletrans, which can be easily installed using the pip command- pip install googletrans. I hope you have easily installed this package, now let’s start with our task to translate Hindi to English using Python."
   ]
  },
  {
   "cell_type": "code",
   "execution_count": 4,
   "metadata": {},
   "outputs": [],
   "source": [
    "import pandas as pd\n",
    "from googletrans import Translator"
   ]
  },
  {
   "cell_type": "code",
   "execution_count": 5,
   "metadata": {},
   "outputs": [
    {
     "data": {
      "text/html": [
       "<div>\n",
       "<style scoped>\n",
       "    .dataframe tbody tr th:only-of-type {\n",
       "        vertical-align: middle;\n",
       "    }\n",
       "\n",
       "    .dataframe tbody tr th {\n",
       "        vertical-align: top;\n",
       "    }\n",
       "\n",
       "    .dataframe thead th {\n",
       "        text-align: right;\n",
       "    }\n",
       "</style>\n",
       "<table border=\"1\" class=\"dataframe\">\n",
       "  <thead>\n",
       "    <tr style=\"text-align: right;\">\n",
       "      <th></th>\n",
       "      <th>Vegetable Names</th>\n",
       "    </tr>\n",
       "  </thead>\n",
       "  <tbody>\n",
       "    <tr>\n",
       "      <th>0</th>\n",
       "      <td>गाजर</td>\n",
       "    </tr>\n",
       "    <tr>\n",
       "      <th>1</th>\n",
       "      <td>शिमला मिर्च</td>\n",
       "    </tr>\n",
       "    <tr>\n",
       "      <th>2</th>\n",
       "      <td>भिन्डी</td>\n",
       "    </tr>\n",
       "    <tr>\n",
       "      <th>3</th>\n",
       "      <td>मक्का</td>\n",
       "    </tr>\n",
       "    <tr>\n",
       "      <th>4</th>\n",
       "      <td>लाल मिर्च</td>\n",
       "    </tr>\n",
       "    <tr>\n",
       "      <th>5</th>\n",
       "      <td>खीरा</td>\n",
       "    </tr>\n",
       "    <tr>\n",
       "      <th>6</th>\n",
       "      <td>कढ़ी पत्ता</td>\n",
       "    </tr>\n",
       "    <tr>\n",
       "      <th>7</th>\n",
       "      <td>बैगन</td>\n",
       "    </tr>\n",
       "    <tr>\n",
       "      <th>8</th>\n",
       "      <td>लहसुन</td>\n",
       "    </tr>\n",
       "    <tr>\n",
       "      <th>9</th>\n",
       "      <td>अदरक</td>\n",
       "    </tr>\n",
       "  </tbody>\n",
       "</table>\n",
       "</div>"
      ],
      "text/plain": [
       "  Vegetable Names\n",
       "0           गाजर \n",
       "1     शिमला मिर्च\n",
       "2         भिन्डी \n",
       "3          मक्का \n",
       "4       लाल मिर्च\n",
       "5           खीरा \n",
       "6       कढ़ी पत्ता\n",
       "7           बैगन \n",
       "8          लहसुन \n",
       "9           अदरक "
      ]
     },
     "execution_count": 5,
     "metadata": {},
     "output_type": "execute_result"
    }
   ],
   "source": [
    "data = pd.read_csv('https://raw.githubusercontent.com/amankharwal/Website-data/master/hindi.csv')\n",
    "data"
   ]
  },
  {
   "cell_type": "code",
   "execution_count": 6,
   "metadata": {},
   "outputs": [
    {
     "name": "stdout",
     "output_type": "stream",
     "text": [
      "Vegetable Names\n",
      "['गाजर ' 'शिमला मिर्च' 'भिन्डी ' 'मक्का ' 'लाल मिर्च' 'खीरा ' 'कढ़ी पत्ता'\n",
      " 'बैगन ' 'लहसुन ' 'अदरक ']\n"
     ]
    }
   ],
   "source": [
    "translator=Translator()\n",
    "translations={}\n",
    "for column in data.columns:\n",
    "    print(column)\n",
    "    print(data[column].unique())\n"
   ]
  },
  {
   "cell_type": "code",
   "execution_count": 7,
   "metadata": {},
   "outputs": [
    {
     "name": "stdout",
     "output_type": "stream",
     "text": [
      "('गाजर ', 'Carrot')\n",
      "('शिमला मिर्च', 'Capsicum')\n",
      "('भिन्डी ', 'Lady finger')\n",
      "('मक्का ', 'Maize')\n",
      "('लाल मिर्च', 'Red chilly')\n",
      "('खीरा ', 'Cucumber')\n",
      "('कढ़ी पत्ता', 'curry leaves')\n",
      "('बैगन ', 'brinjal')\n",
      "('लहसुन ', 'Garlic')\n",
      "('अदरक ', 'Garlic')\n"
     ]
    }
   ],
   "source": [
    "translator = Translator()\n",
    "translations = {}\n",
    "for column in data.columns:\n",
    "    unique = data[column].unique()\n",
    "    for element in unique:\n",
    "        translations[element] = translator.translate(element).text\n",
    "for i in translations.items():\n",
    "    print(i)"
   ]
  },
  {
   "cell_type": "code",
   "execution_count": null,
   "metadata": {},
   "outputs": [],
   "source": []
  }
 ],
 "metadata": {
  "kernelspec": {
   "display_name": "Python 3",
   "language": "python",
   "name": "python3"
  },
  "language_info": {
   "codemirror_mode": {
    "name": "ipython",
    "version": 3
   },
   "file_extension": ".py",
   "mimetype": "text/x-python",
   "name": "python",
   "nbconvert_exporter": "python",
   "pygments_lexer": "ipython3",
   "version": "3.8.5"
  }
 },
 "nbformat": 4,
 "nbformat_minor": 4
}
